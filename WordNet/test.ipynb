{
 "cells": [
  {
   "cell_type": "code",
   "execution_count": 20,
   "metadata": {},
   "outputs": [],
   "source": [
    "from nltk.corpus import wordnet as wn"
   ]
  },
  {
   "cell_type": "code",
   "execution_count": 21,
   "metadata": {},
   "outputs": [
    {
     "data": {
      "text/plain": [
       "[Synset('beautiful.a.01'), Synset('beautiful.s.02')]"
      ]
     },
     "execution_count": 21,
     "metadata": {},
     "output_type": "execute_result"
    }
   ],
   "source": [
    "ss = wn.synsets('beautiful')\n",
    "ss"
   ]
  },
  {
   "cell_type": "code",
   "execution_count": 22,
   "metadata": {},
   "outputs": [
    {
     "name": "stdout",
     "output_type": "stream",
     "text": [
      "ss=Synset('happy.a.01')\n",
      "l=Lemma('happy.a.01.happy')\n",
      "ss=Synset('felicitous.s.02')\n",
      "l=Lemma('felicitous.s.02.felicitous')\n",
      "l=Lemma('felicitous.s.02.happy')\n",
      "ss=Synset('glad.s.02')\n",
      "l=Lemma('glad.s.02.glad')\n",
      "l=Lemma('glad.s.02.happy')\n",
      "ss=Synset('happy.s.04')\n",
      "l=Lemma('happy.s.04.happy')\n",
      "l=Lemma('happy.s.04.well-chosen')\n",
      "Satellite adjectives of 'happy': blessed.s.06, blissful.s.01, bright.s.09, golden.s.02, laughing.s.01\n"
     ]
    }
   ],
   "source": [
    "\n",
    "\n",
    "def get_satellite_adjectives(word):\n",
    "    satellites = []\n",
    "    for synset in wn.synsets(word, pos=wn.ADJ):\n",
    "        print(f'ss={synset}')\n",
    "        for lemma in synset.lemmas():\n",
    "            print(f'l={lemma}')\n",
    "            if lemma.antonyms():  # Only take synsets with antonyms (implies it's a head)\n",
    "                satellites.extend([sat.name() for sat in synset.similar_tos()])\n",
    "    return satellites\n",
    "\n",
    "# Example usage\n",
    "word = 'happy'\n",
    "satellites = get_satellite_adjectives(word)\n",
    "if satellites:\n",
    "    print(f\"Satellite adjectives of '{word}': {', '.join(satellites)}\")\n",
    "else:\n",
    "    print(f\"No satellite adjectives found for '{word}'.\")\n"
   ]
  },
  {
   "cell_type": "code",
   "execution_count": 23,
   "metadata": {},
   "outputs": [
    {
     "name": "stdout",
     "output_type": "stream",
     "text": [
      "Sense 1\n",
      "delighting the senses or exciting intellectual or emotional admiration\n",
      "\n",
      "Sense 2\n",
      "(of weather) highly enjoyable\n",
      "\n"
     ]
    }
   ],
   "source": [
    "from nltk.corpus import wordnet as wn\n",
    "\n",
    "def display_senses(word):\n",
    "    synsets = wn.synsets(word)\n",
    "    \n",
    "    # Limit to the first 3 senses\n",
    "    synsets = synsets[:3]\n",
    "    \n",
    "    for i, synset in enumerate(synsets, 1):\n",
    "        print(f\"Sense {i}\")\n",
    "        print(f\"{synset.definition()}\")\n",
    "        \n",
    "        # Get hyponyms (specific instances of the synset)\n",
    "        hyponyms = synset.hyponyms()\n",
    "        for hyponym in hyponyms:\n",
    "            print(f\"   => {hyponym.lemmas()[0].name()} -- ({hyponym.definition()})\")\n",
    "        \n",
    "        print(\"\")  # Add space between senses\n",
    "\n",
    "# Example usage\n",
    "display_senses(\"beautiful\")"
   ]
  },
  {
   "cell_type": "code",
   "execution_count": 24,
   "metadata": {},
   "outputs": [
    {
     "name": "stdout",
     "output_type": "stream",
     "text": [
      "WordNet Version: 3.0\n"
     ]
    }
   ],
   "source": [
    "import nltk\n",
    "from nltk.corpus import wordnet\n",
    "\n",
    "\n",
    "# Get the version of WordNet\n",
    "wn_version = wordnet.get_version()\n",
    "print(f\"WordNet Version: {wn_version}\")"
   ]
  }
 ],
 "metadata": {
  "kernelspec": {
   "display_name": "Python 3",
   "language": "python",
   "name": "python3"
  },
  "language_info": {
   "codemirror_mode": {
    "name": "ipython",
    "version": 3
   },
   "file_extension": ".py",
   "mimetype": "text/x-python",
   "name": "python",
   "nbconvert_exporter": "python",
   "pygments_lexer": "ipython3",
   "version": "3.9.13"
  }
 },
 "nbformat": 4,
 "nbformat_minor": 2
}
